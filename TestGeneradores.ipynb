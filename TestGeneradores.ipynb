{
 "cells": [
  {
   "cell_type": "code",
   "execution_count": null,
   "id": "c1cebab0-f30e-43b5-8093-a6aeae07f294",
   "metadata": {},
   "outputs": [],
   "source": [
    "from Generadores import paralelas, diagonales, espirales\n",
    "import matplotlib.pyplot as plt\n",
    "import numpy as np\n",
    "import pandas as pd\n",
    "import math"
   ]
  },
  {
   "cell_type": "code",
   "execution_count": null,
   "id": "004fa4d7-a885-454a-a231-d0625c2ae2d8",
   "metadata": {},
   "outputs": [],
   "source": [
    "diag_df = diagonales(200, 2, 0.75)\n",
    "\n",
    "# diferenciar entre clase 0 y clase 1\n",
    "samplesClass0 = diag_df[diag_df[\"Output\"] == 0]\n",
    "samplesClass1 = diag_df[diag_df[\"Output\"] == 1]\n",
    "\n",
    "xs0 = np.array([entry[0] for entry in samplesClass0[\"Input\"]])\n",
    "ys0 = np.array([entry[1] for entry in samplesClass0[\"Input\"]])\n",
    "xs1 = np.array([entry[0] for entry in samplesClass1[\"Input\"]])\n",
    "ys1 = np.array([entry[1] for entry in samplesClass1[\"Input\"]])\n",
    "\n",
    "plt.scatter(xs0, ys0, color='red', s = 1)\n",
    "plt.scatter(xs1, ys1, color='blue', s = 1)\n",
    "plt.show()"
   ]
  },
  {
   "cell_type": "code",
   "execution_count": null,
   "id": "5330839b-7071-488e-907d-8e3fb0706d57",
   "metadata": {},
   "outputs": [],
   "source": [
    "parallel_df = paralelas(200, 2, 0.75)\n",
    "\n",
    "# diferenciar entre clase 0 y clase 1\n",
    "samplesClass0 = parallel_df[parallel_df[\"Output\"] == 0]\n",
    "samplesClass1 = parallel_df[parallel_df[\"Output\"] == 1]\n",
    "\n",
    "xs0 = np.array([entry[0] for entry in samplesClass0[\"Input\"]])\n",
    "ys0 = np.array([entry[1] for entry in samplesClass0[\"Input\"]])\n",
    "xs1 = np.array([entry[0] for entry in samplesClass1[\"Input\"]])\n",
    "ys1 = np.array([entry[1] for entry in samplesClass1[\"Input\"]])\n",
    "\n",
    "plt.scatter(xs0, ys0, color='red', s = 1)\n",
    "plt.scatter(xs1, ys1, color='blue', s = 1)\n",
    "plt.show()"
   ]
  },
  {
   "cell_type": "code",
   "execution_count": null,
   "id": "5d3928a7-4394-4d0c-8b52-5d85170f7691",
   "metadata": {},
   "outputs": [],
   "source": [
    "spiral_df = espirales(1000)\n",
    "\n",
    "# diferenciar entre clase 0 y clase 1\n",
    "samplesClass0 = spiral_df[spiral_df[\"output\"] == 0]\n",
    "samplesClass1 = spiral_df[spiral_df[\"output\"] == 1]\n",
    "\n",
    "xs0 = np.array([entry[0] for entry in samplesClass0[\"input\"]])\n",
    "ys0     = np.array([entry[1] for entry in samplesClass0[\"input\"]])\n",
    "xs1 = np.array([entry[0] for entry in samplesClass1[\"input\"]])\n",
    "ys1     = np.array([entry[1] for entry in samplesClass1[\"input\"]])\n",
    "\n",
    "plt.scatter(xs0, ys0, color='blue',s = 1)\n",
    "plt.scatter(xs1, ys1, color='orange',s = 1)\n",
    "plt.axis('equal')\n",
    "plt.show()"
   ]
  }
 ],
 "metadata": {
  "kernelspec": {
   "display_name": "Python 3 (ipykernel)",
   "language": "python",
   "name": "python3"
  },
  "language_info": {
   "codemirror_mode": {
    "name": "ipython",
    "version": 3
   },
   "file_extension": ".py",
   "mimetype": "text/x-python",
   "name": "python",
   "nbconvert_exporter": "python",
   "pygments_lexer": "ipython3",
   "version": "3.10.12"
  }
 },
 "nbformat": 4,
 "nbformat_minor": 5
}
