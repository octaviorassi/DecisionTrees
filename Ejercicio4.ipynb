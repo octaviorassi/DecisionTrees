{
 "cells": [
  {
   "cell_type": "markdown",
   "id": "e3ce0c05-606f-45a7-ae51-f49b35772b8d",
   "metadata": {},
   "source": [
    "# Ejercicio 4 - Dimensionalidad\n",
    "Genere datasets con C = 0.78, n = 250 para el conjunto de entrenamiento y n = 10000 para el de test, variando esta vez el valor de d según la siguiente lista: 2, 4, 8, 16, 32. Para cada valor de d cree 20 conjuntos distintos de entrenamiento, y uno solo de test. Genere una gráfica del train y test error en función de d para el problema \"paralelo\" y el \"diagonal\" (todos en la misma gráfica). Discuta los resultados."
   ]
  },
  {
   "cell_type": "markdown",
   "id": "c429b962-60d6-4353-9c5b-53d554798f7d",
   "metadata": {},
   "source": [
    "## Definición de funciones\n",
    "Comencemos por definir las funciones que nos serviran para el caso de diagonales y el caso de paralelas."
   ]
  },
  {
   "cell_type": "code",
   "execution_count": 4,
   "id": "121aaca5-b28d-4ba7-a900-eb5211ae27ee",
   "metadata": {},
   "outputs": [],
   "source": [
    "from Generadores import diagonales, paralelas\n",
    "from Comunes import standardTree\n",
    "import numpy as np\n",
    "import matplotlib.pyplot as plt\n",
    "from sklearn.metrics import zero_one_loss"
   ]
  },
  {
   "cell_type": "code",
   "execution_count": 6,
   "id": "bbc9989a-8322-467f-8801-d15d47bfd02e",
   "metadata": {},
   "outputs": [],
   "source": [
    "# Definimos una funcion que dados los parametros y la lista de valores de d (dimensionalidad) genere la lista de training sets\n",
    "def generateTrainingSetsD(setCount, generator, d, n, dims):\n",
    "\n",
    "    # Inicializamos la lista de conjuntos de entrenamiento\n",
    "    trainingSets = [[] for _ in range(len(dims))]\n",
    "    \n",
    "    # Para cada valor de C\n",
    "    for i, d in enumerate(dims):\n",
    "\n",
    "        # Generamos setCount conjuntos de entrenamiento de tamaño n\n",
    "        for _ in range(setCount):\n",
    "            trainingSets[i].append(generator(n, d, C))\n",
    "            # time.sleep(1)    \n",
    "\n",
    "    return trainingSets"
   ]
  },
  {
   "cell_type": "code",
   "execution_count": null,
   "id": "2e294f07-075e-4a13-8f31-f3812d34f335",
   "metadata": {},
   "outputs": [],
   "source": [
    "# La funcion para generar clasificadores es identica a la del ejercicio anterior, donde setSizesCount es cValsCount\n",
    "def generateClassifiers(dimsCount, setCount, trainingSets):\n",
    "    # Creamos la lista de listas de clasificadores. La lista contiene setSizesCount listas con setCount clasificadores cada una.\n",
    "    classifiers = [[] for _ in range(cValsCount)]\n",
    "    \n",
    "    # Creamos los clasificadores\n",
    "    for classifierList in classifiers:\n",
    "        for i in range(setCount):\n",
    "            classifierList.append(standardTree())\n",
    "    \n",
    "    # Entrenamos los clasificadores con su set de entrenamiento correspondiente.\n",
    "    for i,classifierList in enumerate(classifiers):\n",
    "        for j,classifier in enumerate(classifierList):\n",
    "            classifier.fit(list(trainingSets[i][j][\"Input\"]), list(trainingSets[i][j][\"Output\"]))\n",
    "\n",
    "    return classifiers"
   ]
  },
  {
   "cell_type": "markdown",
   "id": "8d75b9f9-2e4d-4616-b5d5-dd121bc24ccc",
   "metadata": {},
   "source": [
    "## Definición de parámetros y clasificadores\n",
    "Pasemos ahora a utilizar las funciones previamente definidas para generar los datos necesarios para entrenar a los distintos clasificadores."
   ]
  },
  {
   "cell_type": "code",
   "execution_count": 1,
   "id": "9168df3a-ff10-4b1c-84da-8faa80aee1eb",
   "metadata": {},
   "outputs": [],
   "source": [
    "# Definimos los parametros\n",
    "dims = [2, 4, 8, 16, 32]\n",
    "ntrain = 250\n",
    "ntest = 10000\n",
    "cval = 0.78\n",
    "\n",
    "setCount = 20\n",
    "dimCount = 5"
   ]
  }
 ],
 "metadata": {
  "kernelspec": {
   "display_name": "Python 3 (ipykernel)",
   "language": "python",
   "name": "python3"
  },
  "language_info": {
   "codemirror_mode": {
    "name": "ipython",
    "version": 3
   },
   "file_extension": ".py",
   "mimetype": "text/x-python",
   "name": "python",
   "nbconvert_exporter": "python",
   "pygments_lexer": "ipython3",
   "version": "3.10.12"
  }
 },
 "nbformat": 4,
 "nbformat_minor": 5
}
