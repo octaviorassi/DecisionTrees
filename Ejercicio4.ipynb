{
 "cells": [
  {
   "cell_type": "markdown",
   "id": "e3ce0c05-606f-45a7-ae51-f49b35772b8d",
   "metadata": {},
   "source": [
    "# Ejercicio 4 - Dimensionalidad\n",
    "Genere datasets con C = 0.78, n = 250 para el conjunto de entrenamiento y n = 10000 para el de test, variando esta vez el valor de d según la siguiente lista: 2, 4, 8, 16, 32. Para cada valor de d cree 20 conjuntos distintos de entrenamiento, y uno solo de test. Genere una gráfica del train y test error en función de d para el problema \"paralelo\" y el \"diagonal\" (todos en la misma gráfica). Discuta los resultados."
   ]
  }
 ],
 "metadata": {
  "kernelspec": {
   "display_name": "Python 3 (ipykernel)",
   "language": "python",
   "name": "python3"
  },
  "language_info": {
   "codemirror_mode": {
    "name": "ipython",
    "version": 3
   },
   "file_extension": ".py",
   "mimetype": "text/x-python",
   "name": "python",
   "nbconvert_exporter": "python",
   "pygments_lexer": "ipython3",
   "version": "3.10.12"
  }
 },
 "nbformat": 4,
 "nbformat_minor": 5
}
